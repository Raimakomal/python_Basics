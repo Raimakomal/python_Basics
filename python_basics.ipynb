{
 "cells": [
  {
   "cell_type": "code",
   "execution_count": 1,
   "id": "79ee4f55-ea9f-4115-8a0f-b968ab5ebc8c",
   "metadata": {},
   "outputs": [
    {
     "name": "stdout",
     "output_type": "stream",
     "text": [
      "*****\n",
      "****\n",
      "***\n",
      "**\n",
      "*\n",
      "*\n",
      "**\n",
      "***\n",
      "****\n",
      "*****\n"
     ]
    }
   ],
   "source": [
    "print('*****\\n****\\n***\\n**\\n*\\n*\\n**\\n***\\n****\\n*****')"
   ]
  },
  {
   "cell_type": "code",
   "execution_count": 2,
   "id": "852c103c-bf6e-43c3-be75-2d5494cd4b85",
   "metadata": {},
   "outputs": [
    {
     "name": "stdin",
     "output_type": "stream",
     "text": [
      "Enter your name:  RAIMA KOMAL\n",
      "Enter your AG number:  2023-ag-7164\n",
      "Enter your age:  19\n",
      "Enter your City:  Burewala\n",
      "Enter your uni name:  UAF \n",
      "Enter your degree:  BS CS\n"
     ]
    },
    {
     "name": "stdout",
     "output_type": "stream",
     "text": [
      "My name is RAIMA KOMAL. I am 19 years old and currently studying BS CS at UAF  University. My AG number is 2023-ag-7164. My hometown is Burewala.\n",
      "145\n",
      "my name is raima komal. i am 19 years old and currently studying bs cs at uaf  university. my ag number is 2023-ag-7164. my hometown is burewala.\n",
      "MY NAME IS RAIMA KOMAL. I AM 19 YEARS OLD AND CURRENTLY STUDYING BS CS AT UAF  UNIVERSITY. MY AG NUMBER IS 2023-AG-7164. MY HOMETOWN IS BUREWALA.\n",
      ".alaweruB si nwotemoh yM .4617-ga-3202 si rebmun GA yM .ytisrevinU  FAU ta SC SB gniyduts yltnerruc dna dlo sraey 91 ma I .LAMOK AMIAR si eman yM\n",
      "M aei AM OA.Ia 9yasodadcretysuyn SC tUF nvriy yA ubri 03a-14 yhmtw sBrwl.\n",
      ".ar  om  6--0srm   tri AtSSgytynr alse9mILOAAsenM\n"
     ]
    }
   ],
   "source": [
    "name = input(\"Enter your name: \")\n",
    "AG = input(\"Enter your AG number: \")\n",
    "age = int(input(\"Enter your age: \"))\n",
    "city = input(\"Enter your City: \")\n",
    "uni = input(\"Enter your uni name: \")\n",
    "degree = input(\"Enter your degree: \")\n",
    "\n",
    "info = (\"My name is \" + name + \". I am \" + str(age) +\" years old and currently studying \" + degree +\" at \" + uni + \" University. My AG number is \" +AG + \". My hometown is \" + city + \".\")\n",
    "\n",
    "print(info)\n",
    "print(len(info))      #length of Info          \n",
    "print(info.lower())   #For lower case\n",
    "print(info.upper())   #For upper case\n",
    "print(info[ : :-1])     #Reverse order\n",
    "print(info[ : :2])      #Print with step size 2\n",
    "print(info[ : :-3])     #Reverse print & step size three"
   ]
  },
  {
   "cell_type": "code",
   "execution_count": 3,
   "id": "8be900a0-efa1-44cf-a245-f77f6ea4e2b7",
   "metadata": {},
   "outputs": [
    {
     "name": "stdin",
     "output_type": "stream",
     "text": [
      "Enter value of a:  10\n",
      "Enter value of b:  20\n",
      "Enter value of c:  40\n"
     ]
    },
    {
     "name": "stdout",
     "output_type": "stream",
     "text": [
      "x: (-0.9999999999999998+1.7320508075688774j)\n",
      "y: (-1.0000000000000002-1.7320508075688774j)\n"
     ]
    }
   ],
   "source": [
    "a = float(input(\"Enter value of a: \"))\n",
    "b = float(input(\"Enter value of b: \"))\n",
    "c = float(input(\"Enter value of c: \"))\n",
    "d = b**2 - 4*a*c\n",
    "\n",
    "print(\"x:\", (-b + (d**0.5)) / (2*a))\n",
    "print(\"y:\", (-b - (d**0.5)) / (2*a))"
   ]
  },
  {
   "cell_type": "code",
   "execution_count": 4,
   "id": "77725ed3-5261-40be-9485-816a11737aca",
   "metadata": {},
   "outputs": [
    {
     "name": "stdout",
     "output_type": "stream",
     "text": [
      "Reverse: ZYXWVUTSRQPONMLKJIGFEDCBA\n",
      "ZXVTRPNLJGECA\n",
      "ADGKNQTWZ\n",
      "ZWTQNKGDA\n",
      "***DEFGIJKLMNOPQRSTUVW***\n"
     ]
    }
   ],
   "source": [
    "alpha = \"ABCDEFGIJKLMNOPQRSTUVWXYZ\"\n",
    "\n",
    "print(\"Reverse:\",alpha[: :-1])  \n",
    "print(alpha[25::-2])  \n",
    "print(alpha[0::3])\n",
    "print(alpha[25::-3])\n",
    "print(\"***\" + alpha[3:-3] + \"***\")"
   ]
  },
  {
   "cell_type": "code",
   "execution_count": 5,
   "id": "d0d02cce-f768-4fb8-afa2-4c795a8a53e4",
   "metadata": {},
   "outputs": [
    {
     "name": "stdin",
     "output_type": "stream",
     "text": [
      "Enter value of m: 26\n",
      "Enter value of c: 30\n"
     ]
    },
    {
     "name": "stdout",
     "output_type": "stream",
     "text": [
      "E = mc^2: 23400\n"
     ]
    }
   ],
   "source": [
    "m = int(input(\"Enter value of m:\"))\n",
    "c = int(input(\"Enter value of c:\"))\n",
    "E = m*(c**2)\n",
    "print(\"E = mc^2:\", E)"
   ]
  },
  {
   "cell_type": "code",
   "execution_count": 6,
   "id": "9fd1152f-bac9-4cbb-b579-9869aec49a48",
   "metadata": {},
   "outputs": [
    {
     "name": "stdout",
     "output_type": "stream",
     "text": [
      "!!!!!!!!!!!!!!!!!!!!!!\n",
      "\\\\!!!!!!!!!!!!!!!!!!//\n",
      "\\\\\\\\!!!!!!!!!!!!!!////\n",
      "\\\\\\\\\\\\!!!!!!!!!!//////\n",
      "\\\\\\\\\\\\\\\\!!!!!!////////\n",
      "\\\\\\\\\\\\\\\\\\\\!!//////////\n"
     ]
    }
   ],
   "source": [
    "print(\"!\"*22 )\n",
    "print(\"\\\\\\\\\" + \"!\" * 18 + \"//\")\n",
    "print(\"\\\\\\\\\\\\\\\\\" + \"!\" * 14 + \"////\")\n",
    "print(\"\\\\\\\\\\\\\\\\\\\\\\\\\" + \"!\" * 10 + \"//////\")\n",
    "print(\"\\\\\\\\\\\\\\\\\\\\\\\\\\\\\\\\\" + \"!\" * 6 + \"////////\")\n",
    "print(\"\\\\\\\\\\\\\\\\\\\\\\\\\\\\\\\\\\\\\\\\\" + \"!!\" + \"//////////\")"
   ]
  },
  {
   "cell_type": "code",
   "execution_count": 7,
   "id": "e08ede8b-1f53-42df-8171-e8fbafbdade9",
   "metadata": {},
   "outputs": [
    {
     "name": "stdout",
     "output_type": "stream",
     "text": [
      "         |         |         |         |         |         |\n",
      "123456789012345678901234567890123456789012345678901234567890\n"
     ]
    }
   ],
   "source": [
    "print( (\" \"*9 + \"|\")*6)\n",
    "print(\"1234567890\"*6)"
   ]
  },
  {
   "cell_type": "code",
   "execution_count": 8,
   "id": "f691f861-dd31-42cc-84fe-d87f69b8f145",
   "metadata": {},
   "outputs": [
    {
     "name": "stdout",
     "output_type": "stream",
     "text": [
      "****** //////////// ******\n",
      "*****  //////////\\\\  *****\n",
      "****   ////////\\\\\\\\   ****\n",
      "***    //////\\\\\\\\\\\\    ***\n",
      "**     ////\\\\\\\\\\\\\\\\     **\n",
      "*      //\\\\\\\\\\\\\\\\\\\\      *\n",
      "       \\\\\\\\\\\\\\\\\\\\\\\\\n"
     ]
    }
   ],
   "source": [
    "print(\"****** \" + \"/\"*12 + \" ******\")\n",
    "print(\"*****  \" + \"/\"*10 + \"\\\\\\\\\" + \"  *****\")\n",
    "print(\"****   \" + \"/\"*8 + \"\\\\\\\\\\\\\\\\\" + \"   ****\" )\n",
    "print(\"***    \" + \"/\"*6 + \"\\\\\\\\\\\\\\\\\\\\\\\\\" + \"    ***\" )\n",
    "print(\"**     \" + \"/\"*4 + \"\\\\\\\\\\\\\\\\\\\\\\\\\\\\\\\\\" + \"     **\" )\n",
    "print(\"*      \" + \"//\" + \"\\\\\\\\\\\\\\\\\\\\\\\\\\\\\\\\\\\\\\\\\" + \"      *\" )\n",
    "print(\"       \\\\\\\\\\\\\\\\\\\\\\\\\\\\\\\\\\\\\\\\\\\\\\\\\")"
   ]
  }
 ],
 "metadata": {
  "kernelspec": {
   "display_name": "Python 3 (ipykernel)",
   "language": "python",
   "name": "python3"
  },
  "language_info": {
   "codemirror_mode": {
    "name": "ipython",
    "version": 3
   },
   "file_extension": ".py",
   "mimetype": "text/x-python",
   "name": "python",
   "nbconvert_exporter": "python",
   "pygments_lexer": "ipython3",
   "version": "3.13.5"
  }
 },
 "nbformat": 4,
 "nbformat_minor": 5
}
